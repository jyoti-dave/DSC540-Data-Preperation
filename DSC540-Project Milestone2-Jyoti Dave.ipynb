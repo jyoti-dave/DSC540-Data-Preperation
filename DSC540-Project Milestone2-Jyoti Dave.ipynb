{
 "cells": [
  {
   "cell_type": "code",
   "execution_count": 1,
   "id": "10468533-d9dc-4f73-a0b1-199ae30ab95e",
   "metadata": {},
   "outputs": [],
   "source": [
    "# Weeks 5 & 6 Term project : Milestone 2"
   ]
  },
  {
   "cell_type": "code",
   "execution_count": 2,
   "id": "42326742-d828-453b-bbbb-64a1e87ab028",
   "metadata": {},
   "outputs": [],
   "source": [
    "# Cleaning/Formatting Flat File Source"
   ]
  },
  {
   "cell_type": "code",
   "execution_count": 3,
   "id": "12ce6ad1-7af3-49fd-9ff6-4cc62bc902a9",
   "metadata": {},
   "outputs": [],
   "source": [
    "## 5 data transformation and/or cleansing steps to your flat file data.\n",
    "\n",
    "# Replace Headers\n",
    "# Format data into a more readable format\n",
    "# Identify outliers and bad data\n",
    "# Find duplicates\n",
    "# Fix casing or inconsistent values\n",
    "# Conduct Fuzzy Matching\n"
   ]
  },
  {
   "cell_type": "code",
   "execution_count": 4,
   "id": "b65fc4bd-187f-464e-a909-872e6fa0098a",
   "metadata": {},
   "outputs": [
    {
     "name": "stdout",
     "output_type": "stream",
     "text": [
      "First 3 records:\n",
      "   Increased_Work_Hours  Work_From_Home  Hours_Worked_Per_Day  \\\n",
      "0                     1               1              6.392394   \n",
      "1                     1               1              9.171984   \n",
      "2                     1               0             10.612561   \n",
      "\n",
      "   Meetings_Per_Day  Productivity_Change Stress_Level  Health_Issue  \\\n",
      "0          2.684594                    1          Low             0   \n",
      "1          3.339225                    1          Low             0   \n",
      "2          2.218333                    0       Medium             0   \n",
      "\n",
      "   Job_Security  Childcare Responsibilities  Commuting_Changes  \\\n",
      "0             0                           1                  1   \n",
      "1             1                           0                  1   \n",
      "2             0                           0                  0   \n",
      "\n",
      "   Technology_Adaptation  Salary_Changes  Team_Collaboration_Challenges  \\\n",
      "0                      1               0                              1   \n",
      "1                      1               0                              1   \n",
      "2                      0               0                              0   \n",
      "\n",
      "   Sector  Affected_by_Covid  \n",
      "0  Retail                  1  \n",
      "1      IT                  1  \n",
      "2  Retail                  1  \n"
     ]
    }
   ],
   "source": [
    "## Read a file\n",
    "\n",
    "# Import required libraries.\n",
    "# Matplotlib is a comprehensive library for creating static, animated, and interactive visualizations in Python\n",
    "# pandas is a fast, powerful, flexible and easy to use open source data analysis and manipulation tool,\n",
    "# built on top of the Python programming language\n",
    "\n",
    "import pandas as pd\n",
    "import numpy as np\n",
    "\n",
    "\n",
    "# Step 1: Read data from csv file\n",
    "file_path = \"synthetic_covid_impact_on_work.csv\" \n",
    "df = pd.read_csv(file_path)\n",
    "\n",
    "# Step 2: Show first 3 records\n",
    "print(\"First 3 records:\")\n",
    "print(df.head(3))\n",
    "\n"
   ]
  },
  {
   "cell_type": "code",
   "execution_count": 5,
   "id": "44c00ada-0933-48ed-a0f7-56ce087dd9d8",
   "metadata": {},
   "outputs": [],
   "source": [
    "# 1. Replace Headers\n",
    "# Convert the space to '_' for all the headers and make the headers in lower case"
   ]
  },
  {
   "cell_type": "code",
   "execution_count": 6,
   "id": "5a86e8bc-5b17-4219-9a67-7a969aca1bcb",
   "metadata": {},
   "outputs": [],
   "source": [
    "# 2. Ensure consistent naming for headers (snake_case)\n",
    "df.columns = [col.lower().replace(\" \", \"_\") for col in df.columns]"
   ]
  },
  {
   "cell_type": "code",
   "execution_count": 7,
   "id": "109eecd1-9f3e-4fd3-b908-2754324588c0",
   "metadata": {},
   "outputs": [
    {
     "name": "stdout",
     "output_type": "stream",
     "text": [
      "First 3 records:\n",
      "   increased_work_hours  work_from_home  hours_worked_per_day  \\\n",
      "0                     1               1              6.392394   \n",
      "1                     1               1              9.171984   \n",
      "2                     1               0             10.612561   \n",
      "\n",
      "   meetings_per_day  productivity_change stress_level  health_issue  \\\n",
      "0          2.684594                    1          Low             0   \n",
      "1          3.339225                    1          Low             0   \n",
      "2          2.218333                    0       Medium             0   \n",
      "\n",
      "   job_security  childcare_responsibilities  commuting_changes  \\\n",
      "0             0                           1                  1   \n",
      "1             1                           0                  1   \n",
      "2             0                           0                  0   \n",
      "\n",
      "   technology_adaptation  salary_changes  team_collaboration_challenges  \\\n",
      "0                      1               0                              1   \n",
      "1                      1               0                              1   \n",
      "2                      0               0                              0   \n",
      "\n",
      "   sector  affected_by_covid  \n",
      "0  Retail                  1  \n",
      "1      IT                  1  \n",
      "2  Retail                  1  \n"
     ]
    }
   ],
   "source": [
    "print(\"First 3 records:\")\n",
    "print(df.head(3))"
   ]
  },
  {
   "cell_type": "code",
   "execution_count": 8,
   "id": "1b653e84-abf7-47db-b664-655982257eb3",
   "metadata": {},
   "outputs": [],
   "source": [
    "# 3. Format data into a more readable format\n",
    "# Round numerical values for readability\n",
    "num_cols = df.select_dtypes(include=[np.number]).columns\n",
    "df[num_cols] = df[num_cols].round(2)"
   ]
  },
  {
   "cell_type": "code",
   "execution_count": 9,
   "id": "7f29a99f-1076-4b70-bab4-d44ad711914f",
   "metadata": {},
   "outputs": [
    {
     "name": "stdout",
     "output_type": "stream",
     "text": [
      "First 3 records:\n",
      "   increased_work_hours  work_from_home  hours_worked_per_day  \\\n",
      "0                     1               1                  6.39   \n",
      "1                     1               1                  9.17   \n",
      "2                     1               0                 10.61   \n",
      "\n",
      "   meetings_per_day  productivity_change stress_level  health_issue  \\\n",
      "0              2.68                    1          Low             0   \n",
      "1              3.34                    1          Low             0   \n",
      "2              2.22                    0       Medium             0   \n",
      "\n",
      "   job_security  childcare_responsibilities  commuting_changes  \\\n",
      "0             0                           1                  1   \n",
      "1             1                           0                  1   \n",
      "2             0                           0                  0   \n",
      "\n",
      "   technology_adaptation  salary_changes  team_collaboration_challenges  \\\n",
      "0                      1               0                              1   \n",
      "1                      1               0                              1   \n",
      "2                      0               0                              0   \n",
      "\n",
      "   sector  affected_by_covid  \n",
      "0  Retail                  1  \n",
      "1      IT                  1  \n",
      "2  Retail                  1  \n"
     ]
    }
   ],
   "source": [
    "print(\"First 3 records:\")\n",
    "print(df.head(3))"
   ]
  },
  {
   "cell_type": "code",
   "execution_count": 10,
   "id": "5dbdd2f8-8e4f-4d50-a6b1-7ec8ea4d6746",
   "metadata": {},
   "outputs": [],
   "source": [
    "# 4. Identify outliers and bad data\n",
    "# Outlier detection using IQR for numerical columns\n",
    "for col in [\"hours_worked_per_day\", \"meetings_per_day\"]:\n",
    "    Q1 = df[col].quantile(0.25)\n",
    "    Q3 = df[col].quantile(0.75)\n",
    "    IQR = Q3 - Q1\n",
    "    lower_bound = Q1 - 1.5 * IQR\n",
    "    upper_bound = Q3 + 1.5 * IQR\n",
    "    outliers = df[(df[col] < lower_bound) | (df[col] > upper_bound)]\n",
    "    #print(f\"Outliers in {col}:\\n\", outliers)"
   ]
  },
  {
   "cell_type": "code",
   "execution_count": 11,
   "id": "ee697449-b57d-472a-993e-d46e40d02d2a",
   "metadata": {},
   "outputs": [],
   "source": [
    "# 5 Replace negative or invalid values (e.g., negative meetings per day)\n",
    "df[\"meetings_per_day\"] = df[\"meetings_per_day\"].apply(lambda x: max(x, 0))"
   ]
  },
  {
   "cell_type": "code",
   "execution_count": 12,
   "id": "ea99ad7a-fc6e-4731-a255-58c7670e8387",
   "metadata": {},
   "outputs": [
    {
     "name": "stdout",
     "output_type": "stream",
     "text": [
      "\n",
      "Duplicates: Empty DataFrame\n",
      "Columns: [increased_work_hours, work_from_home, hours_worked_per_day, meetings_per_day, productivity_change, stress_level, health_issue, job_security, childcare_responsibilities, commuting_changes, technology_adaptation, salary_changes, team_collaboration_challenges, sector, affected_by_covid]\n",
      "Index: []\n"
     ]
    }
   ],
   "source": [
    "# 6. Find duplicates\n",
    "duplicates = df[df.duplicated()]\n",
    "print(\"\\nDuplicates:\", duplicates)"
   ]
  },
  {
   "cell_type": "code",
   "execution_count": 13,
   "id": "5248be6f-12e6-4803-9f45-3fd518209ed8",
   "metadata": {},
   "outputs": [
    {
     "name": "stdout",
     "output_type": "stream",
     "text": [
      "First 3 records:\n",
      "   increased_work_hours  work_from_home  hours_worked_per_day  \\\n",
      "0                     1               1                  6.39   \n",
      "1                     1               1                  9.17   \n",
      "2                     1               0                 10.61   \n",
      "\n",
      "   meetings_per_day  productivity_change stress_level  health_issue  \\\n",
      "0              2.68                    1          Low             0   \n",
      "1              3.34                    1          Low             0   \n",
      "2              2.22                    0       Medium             0   \n",
      "\n",
      "   job_security  childcare_responsibilities  commuting_changes  \\\n",
      "0             0                           1                  1   \n",
      "1             1                           0                  1   \n",
      "2             0                           0                  0   \n",
      "\n",
      "   technology_adaptation  salary_changes  team_collaboration_challenges  \\\n",
      "0                      1               0                              1   \n",
      "1                      1               0                              1   \n",
      "2                      0               0                              0   \n",
      "\n",
      "   sector  affected_by_covid  \n",
      "0  Retail                  1  \n",
      "1      IT                  1  \n",
      "2  Retail                  1  \n"
     ]
    }
   ],
   "source": [
    "# Remove duplicates\n",
    "df = df.drop_duplicates()\n",
    "print(\"First 3 records:\")\n",
    "print(df.head(3))"
   ]
  },
  {
   "cell_type": "code",
   "execution_count": 14,
   "id": "ef109f0e-8107-4aef-bce7-01c7ff05af8b",
   "metadata": {},
   "outputs": [],
   "source": [
    "# 5. Fix casing or inconsistent values\n",
    "# Standardize string values (e.g., stress_level and sector)\n",
    "df[\"stress_level\"] = df[\"stress_level\"].str.capitalize()\n",
    "df[\"sector\"] = df[\"sector\"].str.title()\n"
   ]
  },
  {
   "cell_type": "code",
   "execution_count": 15,
   "id": "a03af210-e619-42df-ad36-8703a481706f",
   "metadata": {},
   "outputs": [],
   "source": [
    "import warnings\n",
    "# Suppress all warnings\n",
    "warnings.filterwarnings(\"ignore\")\n",
    "from fuzzywuzzy import process\n",
    "# 6. Conduct Fuzzy Matching\n",
    "# Example: Ensure consistent sector names using fuzzy matching\n",
    "unique_sectors = df[\"sector\"].unique()\n",
    "def fuzzy_match(val, choices):\n",
    "    return process.extractOne(val, choices)[0]\n",
    "\n",
    "# Replace inconsistent sector names\n",
    "df[\"sector\"] = df[\"sector\"].apply(lambda x: fuzzy_match(x, unique_sectors))"
   ]
  },
  {
   "cell_type": "code",
   "execution_count": 16,
   "id": "c7eec3d0-5899-4e20-99c2-21ac1d0affb3",
   "metadata": {},
   "outputs": [
    {
     "name": "stdout",
     "output_type": "stream",
     "text": [
      "\n",
      "Cleaned Dataset:\n",
      "      increased_work_hours  work_from_home  hours_worked_per_day  \\\n",
      "0                        1               1                  6.39   \n",
      "1                        1               1                  9.17   \n",
      "2                        1               0                 10.61   \n",
      "3                        1               1                  5.55   \n",
      "4                        0               1                 11.42   \n",
      "...                    ...             ...                   ...   \n",
      "9995                     1               1                  7.96   \n",
      "9996                     0               0                 10.92   \n",
      "9997                     1               1                 10.18   \n",
      "9998                     1               1                 11.90   \n",
      "9999                     0               0                  8.44   \n",
      "\n",
      "      meetings_per_day  productivity_change stress_level  health_issue  \\\n",
      "0                 2.68                    1          Low             0   \n",
      "1                 3.34                    1          Low             0   \n",
      "2                 2.22                    0       Medium             0   \n",
      "3                 5.15                    0       Medium             0   \n",
      "4                 3.12                    1       Medium             0   \n",
      "...                ...                  ...          ...           ...   \n",
      "9995              2.28                    1       Medium             1   \n",
      "9996              3.62                    0       Medium             0   \n",
      "9997              1.04                    1          Low             0   \n",
      "9998              3.76                    0       Medium             1   \n",
      "9999              4.23                    1       Medium             0   \n",
      "\n",
      "      job_security  childcare_responsibilities  commuting_changes  \\\n",
      "0                0                           1                  1   \n",
      "1                1                           0                  1   \n",
      "2                0                           0                  0   \n",
      "3                0                           0                  1   \n",
      "4                1                           1                  1   \n",
      "...            ...                         ...                ...   \n",
      "9995             1                           1                  0   \n",
      "9996             0                           1                  0   \n",
      "9997             1                           0                  1   \n",
      "9998             1                           0                  1   \n",
      "9999             0                           0                  1   \n",
      "\n",
      "      technology_adaptation  salary_changes  team_collaboration_challenges  \\\n",
      "0                         1               0                              1   \n",
      "1                         1               0                              1   \n",
      "2                         0               0                              0   \n",
      "3                         0               0                              0   \n",
      "4                         0               1                              1   \n",
      "...                     ...             ...                            ...   \n",
      "9995                      0               0                              1   \n",
      "9996                      1               0                              0   \n",
      "9997                      1               1                              1   \n",
      "9998                      1               1                              1   \n",
      "9999                      1               0                              1   \n",
      "\n",
      "         sector  affected_by_covid  \n",
      "0        Retail                  1  \n",
      "1            It                  1  \n",
      "2        Retail                  1  \n",
      "3     Education                  1  \n",
      "4     Education                  1  \n",
      "...         ...                ...  \n",
      "9995         It                  1  \n",
      "9996         It                  1  \n",
      "9997     Retail                  1  \n",
      "9998  Education                  1  \n",
      "9999     Retail                  1  \n",
      "\n",
      "[10000 rows x 15 columns]\n"
     ]
    }
   ],
   "source": [
    "\n",
    "# Final cleaned dataset\n",
    "print(\"\\nCleaned Dataset:\")\n",
    "print(df)\n"
   ]
  },
  {
   "cell_type": "code",
   "execution_count": 17,
   "id": "ce340ece-dcd4-4ad1-b7c5-20674293edac",
   "metadata": {},
   "outputs": [],
   "source": [
    "# What changes were made to the data?"
   ]
  },
  {
   "cell_type": "markdown",
   "id": "8c87b90c-3a4c-43f0-b358-abf0b51bd4d2",
   "metadata": {},
   "source": [
    "Cleaned the data by removing the duplicate headers, modified inconsistent header names with standard header names, \n",
    "conducted fuzzy matching and removed outliers.\n"
   ]
  },
  {
   "cell_type": "code",
   "execution_count": 19,
   "id": "5053fde4-7d7b-446f-b3c1-7b9a1e052b67",
   "metadata": {},
   "outputs": [],
   "source": [
    "# Are there any legal or regulatory guidelines for your data or project topic?"
   ]
  },
  {
   "cell_type": "markdown",
   "id": "838c7c03-b5a5-4e07-a1e1-559709dc472a",
   "metadata": {},
   "source": [
    "\n",
    "Data Privacy Laws:\n",
    "\n",
    "This dataset does not contains personal or sensitive information (e.g., identifiable employee data), \n",
    "otherwise it would be subject to privacy regulations such as the General Data Protection Regulation (GDPR) \n",
    "in the EU or the California Consumer Privacy Act (CCPA) in the U.S. \n",
    "Ensured that the dataset has been anonymized to protect individual identities.\n",
    "\n",
    "Workplace and Health Regulations:\n",
    "\n",
    "Data about employee health, stress, and productivity might intersect with workplace safety regulations \n",
    "like OSHA (Occupational Safety and Health Administration) guidelines or equivalent regional labor laws.\n",
    "Ethical considerations also arise from using this data to assess workplace policies, ensuring no misuse or discrimination results.\n",
    "\n",
    "COVID-19 Guidelines:\n",
    "\n",
    "Since the dataset references COVID-19 impacts, any analysis must align with public health data-sharing rules, \n",
    "such as those issued by WHO or CDC, particularly if health data is involved.\n",
    "\n",
    "Ethical Research Standards:\n",
    "\n",
    "Data is downloaded from Kaggle so I ensured the compliance with ethical guidelines, especially if this data is used in research.\n"
   ]
  },
  {
   "cell_type": "code",
   "execution_count": 21,
   "id": "d527fa98-abc3-469a-b922-d0c7f36b8890",
   "metadata": {},
   "outputs": [],
   "source": [
    "# What risks could be created based on the transformations done?"
   ]
  },
  {
   "cell_type": "markdown",
   "id": "827fb2d4-6dc8-4e72-89d5-0ca3d5f05d9d",
   "metadata": {},
   "source": [
    "Loss of Original Context:\n",
    "\n",
    "Rounding numerical values (e.g., hours worked or meetings per day) may result in slight inaccuracies that could misrepresent the original data. This could affect conclusions drawn from the analysis, especially if precise values are critical.\n",
    "\n",
    "Assumption-Driven Modifications:\n",
    "\n",
    "Replacing negative values (e.g., setting negative meeting counts to zero) assumes those values are errors, but this might not always be true. If these negative values represent unique scenarios or errors requiring a different treatment, their replacement could distort insights.\n",
    "Inaccurate Fuzzy Matching:\n",
    "\n",
    "Fuzzy matching to standardize inconsistent values (like sector names) might introduce incorrect matches if the similarity threshold isn't carefully managed. For example, a sector labeled \"Healthcare\" could mistakenly be matched to \"Education\" if similarity scoring is too lenient.\n",
    "\n",
    "Overlooked Outliers:\n",
    "\n",
    "Removing or modifying outliers without proper documentation or context could obscure important patterns, especially if those outliers represent legitimate but uncommon situations.\n",
    "Data Bias Introduction:\n",
    "\n",
    "Decisions to drop duplicates or correct certain values may unintentionally bias the dataset, especially if these actions disproportionately affect specific groups or categories (e.g., sectors, stress levels).\n",
    "Ethical Implications of Standardization:\n",
    "\n",
    "Standardizing categorical values (e.g., stress levels) may lead to the loss of nuanced differences between responses, reducing the dataset’s ability to capture diverse perspectives.\n",
    "\n",
    "To mitigate these risks:\n",
    "\n",
    "Documented every transformation and its justification thoroughly.\n",
    "Verified transformations against a subset of the original data.\n",
    "Used sensitivity analysis to evaluate how changes might affect results."
   ]
  },
  {
   "cell_type": "code",
   "execution_count": 23,
   "id": "6d659214-83e5-466c-81ba-ac555f82307e",
   "metadata": {},
   "outputs": [],
   "source": [
    "# Did you make any assumptions in cleaning/transforming the data?"
   ]
  },
  {
   "cell_type": "markdown",
   "id": "98ca2a04-2eec-4184-85ad-0385ad3df9e9",
   "metadata": {},
   "source": [
    "Yes, several assumptions were made during the cleaning and transformation of the dataset:\n",
    "\n",
    "Negative Values as Errors:\n",
    "It was assumed that negative values in the meetings_per_day column were erroneous. They were replaced with zero under the assumption that it is not possible to have negative meetings. However, these values might have represented missing data or other meaningful anomalies.\n",
    "\n",
    "Rounding for Readability:\n",
    "Numerical columns, such as hours_worked_per_day, were rounded to two decimal places to improve readability. This assumes that the precision lost during rounding would not significantly impact downstream analysis.\n",
    "\n",
    "Fuzzy Matching Consistency:\n",
    "For the sector column, fuzzy matching was used to standardize inconsistent values, assuming that the closest match was the correct one. This assumes a high degree of similarity between intended categories, which might not always hold true.\n",
    "\n",
    "Outlier Treatment:\n",
    "Outliers in numerical columns were identified using the Interquartile Range (IQR) method, with the assumption that values outside the calculated bounds were anomalous. It was implicitly assumed that outliers did not carry meaningful information about extreme cases.\n",
    "\n",
    "String Capitalization:\n",
    "Categorical values such as stress_level and sector were standardized to consistent casing (e.g., title case). This assumes that the case formatting changes would not alter the semantic meaning of the data.\n",
    "\n",
    "Duplicates as Unnecessary Data:\n",
    "Duplicates in the dataset were removed based on the assumption that they were unintentional repetitions rather than deliberate or valid entries.\n",
    "\n",
    "Interpretation of Stress Levels:\n",
    "It was assumed that the stress levels labeled as \"Low,\" \"Medium,\" or other similar categories were self-explanatory and did not require additional clarification or reclassification.\n",
    "\n",
    "These assumptions were made to streamline the cleaning process, but they carry the risk of introducing biases or misinterpretations. Domain expertise and a thorough review of the dataset context would help validate or adjust these assumptions."
   ]
  },
  {
   "cell_type": "code",
   "execution_count": 25,
   "id": "0d8c0755-ad5c-49a5-9bac-eb5b5b6d56ca",
   "metadata": {},
   "outputs": [],
   "source": [
    "# How was your data sourced / verified for credibility?"
   ]
  },
  {
   "cell_type": "markdown",
   "id": "e76500b6-2b43-429d-bedd-96130839353c",
   "metadata": {},
   "source": [
    "The dataset appears to be sourced from a hypothetical or simulated context, as there are no specific references to its origin or a real-world source. This lack of provenance makes it challenging to verify the data's credibility directly. However, several steps could be taken to assess and enhance the dataset's reliability:\n",
    "\n",
    "Evaluation of Realism: The data was reviewed for internal consistency, such as logical ranges for numerical values (e.g., no excessive or unrealistic hours_worked_per_day) and plausible relationships between variables.\n",
    "\n",
    "Contextual Plausibility: The dataset includes common workplace variables such as stress levels, hours worked, and productivity changes, which are standard in workplace studies. These align with known topics in workplace analytics, lending some credibility to the structure of the dataset.\n",
    "\n",
    "Potential Assumptions about Source Credibility: In the absence of metadata or documentation, it was assumed that the dataset's structure and values were designed to simulate realistic workplace data for analysis purposes.\n"
   ]
  },
  {
   "cell_type": "code",
   "execution_count": 27,
   "id": "ddd722ac-4c05-4d15-960b-5d5036063c7b",
   "metadata": {},
   "outputs": [],
   "source": [
    "# Was your data acquired in an ethical way?"
   ]
  },
  {
   "cell_type": "markdown",
   "id": "ef4ee92b-699a-4dde-8728-10f5c15fc7f3",
   "metadata": {},
   "source": [
    "Yes. The data was downloaded from Kaggle."
   ]
  },
  {
   "cell_type": "code",
   "execution_count": 29,
   "id": "75a80c6d-bbd8-43e3-b035-e9a991f7d208",
   "metadata": {},
   "outputs": [],
   "source": [
    "# How would you mitigate any of the ethical implications you have identified?"
   ]
  },
  {
   "cell_type": "markdown",
   "id": "829463d7-166e-409f-be16-e0407dd621b9",
   "metadata": {},
   "source": [
    "Ethical data collection involves obtaining consent, ensuring anonymity where necessary, and being transparent about how data is used. \n",
    "\n",
    "Avoiding Data Misuse: Ethical practices help prevent the misuse of data, such as using it for discriminatory, exploitative, or manipulative purposes."
   ]
  }
 ],
 "metadata": {
  "kernelspec": {
   "display_name": "Python 3 (ipykernel)",
   "language": "python",
   "name": "python3"
  },
  "language_info": {
   "codemirror_mode": {
    "name": "ipython",
    "version": 3
   },
   "file_extension": ".py",
   "mimetype": "text/x-python",
   "name": "python",
   "nbconvert_exporter": "python",
   "pygments_lexer": "ipython3",
   "version": "3.12.8"
  }
 },
 "nbformat": 4,
 "nbformat_minor": 5
}
