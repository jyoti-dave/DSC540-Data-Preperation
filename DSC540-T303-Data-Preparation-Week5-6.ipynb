{
 "cells": [
  {
   "cell_type": "code",
   "execution_count": 1,
   "id": "10468533-d9dc-4f73-a0b1-199ae30ab95e",
   "metadata": {},
   "outputs": [],
   "source": [
    "# Weeks 5 & 6 Exercises"
   ]
  },
  {
   "cell_type": "code",
   "execution_count": 2,
   "id": "42326742-d828-453b-bbbb-64a1e87ab028",
   "metadata": {},
   "outputs": [],
   "source": [
    "# 1. The Data Wrangling Workshop: Activity 5.01, page 281\n",
    "# Reading tabular data from a web page and creating dataframes\n",
    "# from https://en.wikipedia.org/wiki/List_of_countries_by_GDP_(nominal)"
   ]
  },
  {
   "cell_type": "code",
   "execution_count": 3,
   "id": "0ace5b7b-21ec-41cd-a1a9-0698b2aaa157",
   "metadata": {},
   "outputs": [],
   "source": [
    "#Read the page using bs4"
   ]
  },
  {
   "cell_type": "code",
   "execution_count": 4,
   "id": "095c14f2-b5ea-4f41-ac7e-8ecae1830c42",
   "metadata": {},
   "outputs": [],
   "source": [
    "from bs4 import BeautifulSoup\n",
    "import pandas as pd"
   ]
  },
  {
   "cell_type": "code",
   "execution_count": 5,
   "id": "2ca34de6-6abe-4d45-909a-7727b1805f4a",
   "metadata": {},
   "outputs": [],
   "source": [
    "# Open the wikipedia file\n",
    "fd = open(\"datasets/List of countries by GDP (nominal) - Wikipedia.htm\", \"r\", encoding = \"utf-8\")\n",
    "soup = BeautifulSoup(fd)\n",
    "fd.close()"
   ]
  },
  {
   "cell_type": "code",
   "execution_count": 6,
   "id": "584fd3c2-9808-46c9-b0e4-dfc12f94abb1",
   "metadata": {},
   "outputs": [
    {
     "name": "stdout",
     "output_type": "stream",
     "text": [
      "Total number of tables are 9 \n"
     ]
    }
   ],
   "source": [
    "# Calculate the tables by using the command\n",
    "all_tables = soup.find_all(\"table\")\n",
    "print(\"Total number of tables are {} \".format(len(all_tables)))"
   ]
  },
  {
   "cell_type": "code",
   "execution_count": 7,
   "id": "9345d1be-6a6e-4d86-9183-bfa048470d6d",
   "metadata": {},
   "outputs": [
    {
     "name": "stdout",
     "output_type": "stream",
     "text": [
      "<class 'bs4.element.Tag'>\n"
     ]
    }
   ],
   "source": [
    "# Find the right table using the class attribute by using the follwing command\n",
    "data_table = soup.find(\"table\", {\"class\": '\"wikitable\"|}'})\n",
    "print(type(data_table))"
   ]
  },
  {
   "cell_type": "code",
   "execution_count": 8,
   "id": "bb34b10b-7b6f-4e2e-9486-6689e1f9ba02",
   "metadata": {},
   "outputs": [
    {
     "name": "stdout",
     "output_type": "stream",
     "text": [
      "3\n"
     ]
    }
   ],
   "source": [
    "# Seperate the source and the actual data by using the following command\n",
    "sources = data_table.tbody.findAll('tr', recursive=False)[0]\n",
    "sources_list = [td for td in sources.findAll('td')]\n",
    "print(len(sources_list))"
   ]
  },
  {
   "cell_type": "code",
   "execution_count": 9,
   "id": "8459a6a2-4b64-4257-8acc-3fe8fc782ccc",
   "metadata": {},
   "outputs": [],
   "source": [
    "# Use the findAll function to find the data from the body tag of data_table\n",
    "data = data_table.tbody.findAll('tr', recursive=False)[1].findAll('td', recursive=False)"
   ]
  },
  {
   "cell_type": "code",
   "execution_count": 10,
   "id": "4e09a598-231b-4e38-ba90-8ef236c1637b",
   "metadata": {},
   "outputs": [],
   "source": [
    "# Use the finaAll function to find the data from the data_table td tag by using the command\n",
    "data_tables = []\n",
    "for td in data:\n",
    "    data_tables.append(td.findAll('table'))"
   ]
  },
  {
   "cell_type": "code",
   "execution_count": 11,
   "id": "e8f284f5-b746-41f8-8525-f06b0fd35352",
   "metadata": {},
   "outputs": [
    {
     "data": {
      "text/plain": [
       "3"
      ]
     },
     "execution_count": 11,
     "metadata": {},
     "output_type": "execute_result"
    }
   ],
   "source": [
    "# Find the length of data_tables by using the follwing command\n",
    "len(data_tables)"
   ]
  },
  {
   "cell_type": "code",
   "execution_count": 12,
   "id": "38d6e0e9-c3d6-4289-9a9c-d43df878c73b",
   "metadata": {},
   "outputs": [
    {
     "name": "stdout",
     "output_type": "stream",
     "text": [
      "['International Monetary Fund', 'World Bank', 'United Nations']\n"
     ]
    }
   ],
   "source": [
    "# Check how to get the source names by using the follwing command\n",
    "source_names = [source.findAll('a')[0].getText() for source in sources_list]\n",
    "print(source_names)"
   ]
  },
  {
   "cell_type": "code",
   "execution_count": 13,
   "id": "dfe222bc-06bd-4be2-910a-8fdb76178790",
   "metadata": {},
   "outputs": [
    {
     "data": {
      "text/plain": [
       "['Rank', 'Country', 'GDP(US$MM)']"
      ]
     },
     "execution_count": 13,
     "metadata": {},
     "output_type": "execute_result"
    }
   ],
   "source": [
    "# Seperate the header and data for the first source\n",
    "header1 = [th.getText().strip() for th in data_tables[0][0].findAll('thead')[0].findAll('th')]\n",
    "header1"
   ]
  },
  {
   "cell_type": "code",
   "execution_count": 14,
   "id": "af37f04d-9416-4f28-89f1-b150ec195a08",
   "metadata": {},
   "outputs": [],
   "source": [
    "#  Find the rows from data_tables using findAll\n",
    "rows1 = data_tables[0][0].findAll('tbody')[0].findAll('tr')"
   ]
  },
  {
   "cell_type": "code",
   "execution_count": 15,
   "id": "198dc6f9-d73a-4110-9b1c-df369472e6eb",
   "metadata": {},
   "outputs": [],
   "source": [
    "# Find the data from rows1 using the strip function for each td tag\n",
    "data_rows1 = [[td.get_text().strip() for td in tr.findAll('td')] for tr in rows1]"
   ]
  },
  {
   "cell_type": "code",
   "execution_count": 16,
   "id": "4a235f95-6e03-4ce2-89ec-1bd3c3db5d94",
   "metadata": {},
   "outputs": [
    {
     "data": {
      "text/html": [
       "<div>\n",
       "<style scoped>\n",
       "    .dataframe tbody tr th:only-of-type {\n",
       "        vertical-align: middle;\n",
       "    }\n",
       "\n",
       "    .dataframe tbody tr th {\n",
       "        vertical-align: top;\n",
       "    }\n",
       "\n",
       "    .dataframe thead th {\n",
       "        text-align: right;\n",
       "    }\n",
       "</style>\n",
       "<table border=\"1\" class=\"dataframe\">\n",
       "  <thead>\n",
       "    <tr style=\"text-align: right;\">\n",
       "      <th></th>\n",
       "      <th>Rank</th>\n",
       "      <th>Country</th>\n",
       "      <th>GDP(US$MM)</th>\n",
       "    </tr>\n",
       "  </thead>\n",
       "  <tbody>\n",
       "    <tr>\n",
       "      <th>0</th>\n",
       "      <td></td>\n",
       "      <td>World[19]</td>\n",
       "      <td>79,865,481</td>\n",
       "    </tr>\n",
       "    <tr>\n",
       "      <th>1</th>\n",
       "      <td>1</td>\n",
       "      <td>United States</td>\n",
       "      <td>19,390,600</td>\n",
       "    </tr>\n",
       "    <tr>\n",
       "      <th>2</th>\n",
       "      <td>2</td>\n",
       "      <td>China[n 1]</td>\n",
       "      <td>12,014,610</td>\n",
       "    </tr>\n",
       "    <tr>\n",
       "      <th>3</th>\n",
       "      <td>3</td>\n",
       "      <td>Japan</td>\n",
       "      <td>4,872,135</td>\n",
       "    </tr>\n",
       "    <tr>\n",
       "      <th>4</th>\n",
       "      <td>4</td>\n",
       "      <td>Germany</td>\n",
       "      <td>3,684,816</td>\n",
       "    </tr>\n",
       "  </tbody>\n",
       "</table>\n",
       "</div>"
      ],
      "text/plain": [
       "  Rank        Country  GDP(US$MM)\n",
       "0           World[19]  79,865,481\n",
       "1    1  United States  19,390,600\n",
       "2    2     China[n 1]  12,014,610\n",
       "3    3          Japan   4,872,135\n",
       "4    4        Germany   3,684,816"
      ]
     },
     "execution_count": 16,
     "metadata": {},
     "output_type": "execute_result"
    }
   ],
   "source": [
    "# Find the DataFrame\n",
    "df1 = pd.DataFrame(data_rows1, columns=header1)\n",
    "df1.head()"
   ]
  },
  {
   "cell_type": "code",
   "execution_count": 17,
   "id": "915971a2-a4da-4b0f-af6e-748d6f4d94e3",
   "metadata": {},
   "outputs": [
    {
     "data": {
      "text/plain": [
       "['Rank', 'Country', 'GDP(US$MM)']"
      ]
     },
     "execution_count": 17,
     "metadata": {},
     "output_type": "execute_result"
    }
   ],
   "source": [
    "# Do the same for the other two sources\n",
    "header2 = [th.getText().strip() for th in data_tables[1][0].findAll('thead')[0].findAll('th')]\n",
    "header2"
   ]
  },
  {
   "cell_type": "code",
   "execution_count": 18,
   "id": "b1d9ce66-9d72-45de-b0e0-f9cc255f23af",
   "metadata": {},
   "outputs": [],
   "source": [
    "# Find the rows from data_tables using findAll\n",
    "rows2 = data_tables[1][0].findAll('tbody')[0].findAll('tr')\n"
   ]
  },
  {
   "cell_type": "code",
   "execution_count": 19,
   "id": "17c9f8f9-0a15-44a6-a3e6-d4e1a4305ea2",
   "metadata": {},
   "outputs": [],
   "source": [
    "# Define find_right_text using strip function\n",
    "def find_right_text(i, td):\n",
    "    if i == 0:\n",
    "        return td.getText().strip()\n",
    "    elif i == 1:\n",
    "        return td.getText().strip()\n",
    "    else:\n",
    "        index = td.text.find(\"♠\")\n",
    "        return td.text[index+1:].strip()"
   ]
  },
  {
   "cell_type": "code",
   "execution_count": 20,
   "id": "4f9122ff-f9f6-4fae-8f0f-76913e1a49b4",
   "metadata": {},
   "outputs": [],
   "source": [
    "# Find the rows from data_rows using find_right_text\n",
    "data_rows2 = [[find_right_text(i, td) for i, td in enumerate(tr.findAll('td'))] for tr in rows2]\n"
   ]
  },
  {
   "cell_type": "code",
   "execution_count": 21,
   "id": "eed06e62-bfcb-4018-bdd8-d760399deec5",
   "metadata": {},
   "outputs": [
    {
     "data": {
      "text/html": [
       "<div>\n",
       "<style scoped>\n",
       "    .dataframe tbody tr th:only-of-type {\n",
       "        vertical-align: middle;\n",
       "    }\n",
       "\n",
       "    .dataframe tbody tr th {\n",
       "        vertical-align: top;\n",
       "    }\n",
       "\n",
       "    .dataframe thead th {\n",
       "        text-align: right;\n",
       "    }\n",
       "</style>\n",
       "<table border=\"1\" class=\"dataframe\">\n",
       "  <thead>\n",
       "    <tr style=\"text-align: right;\">\n",
       "      <th></th>\n",
       "      <th>Rank</th>\n",
       "      <th>Country</th>\n",
       "      <th>GDP(US$MM)</th>\n",
       "    </tr>\n",
       "  </thead>\n",
       "  <tbody>\n",
       "    <tr>\n",
       "      <th>0</th>\n",
       "      <td></td>\n",
       "      <td>World</td>\n",
       "      <td>80,683,787</td>\n",
       "    </tr>\n",
       "    <tr>\n",
       "      <th>1</th>\n",
       "      <td>1</td>\n",
       "      <td>United States</td>\n",
       "      <td>19,390,604</td>\n",
       "    </tr>\n",
       "    <tr>\n",
       "      <th>2</th>\n",
       "      <td></td>\n",
       "      <td>European Union[23]</td>\n",
       "      <td>17,277,698</td>\n",
       "    </tr>\n",
       "    <tr>\n",
       "      <th>3</th>\n",
       "      <td>2</td>\n",
       "      <td>China[n 4]</td>\n",
       "      <td>12,237,700</td>\n",
       "    </tr>\n",
       "    <tr>\n",
       "      <th>4</th>\n",
       "      <td>3</td>\n",
       "      <td>Japan</td>\n",
       "      <td>4,872,137</td>\n",
       "    </tr>\n",
       "  </tbody>\n",
       "</table>\n",
       "</div>"
      ],
      "text/plain": [
       "  Rank             Country  GDP(US$MM)\n",
       "0                    World  80,683,787\n",
       "1    1       United States  19,390,604\n",
       "2       European Union[23]  17,277,698\n",
       "3    2          China[n 4]  12,237,700\n",
       "4    3               Japan   4,872,137"
      ]
     },
     "execution_count": 21,
     "metadata": {},
     "output_type": "execute_result"
    }
   ],
   "source": [
    "# Calculate the df2 DataFrame\n",
    "df2 = pd.DataFrame(data_rows2, columns=header2)\n",
    "df2.head()"
   ]
  },
  {
   "cell_type": "code",
   "execution_count": 22,
   "id": "26108ba9-2ddf-465c-86d8-a10551978cd8",
   "metadata": {},
   "outputs": [
    {
     "data": {
      "text/plain": [
       "['Rank', 'Country', 'GDP(US$MM)']"
      ]
     },
     "execution_count": 22,
     "metadata": {},
     "output_type": "execute_result"
    }
   ],
   "source": [
    "# Perform the same operations for the third dataframe \n",
    "header3 = [th.getText().strip() for th in data_tables[2][0].findAll('thead')[0].findAll('th')]\n",
    "header3"
   ]
  },
  {
   "cell_type": "code",
   "execution_count": 23,
   "id": "38cf4d93-4037-433f-999a-47e7f2e78372",
   "metadata": {},
   "outputs": [],
   "source": [
    "# Find the rows from data_tables using findAll\n",
    "rows3 = data_tables[2][0].findAll('tbody')[0].findAll('tr')\n"
   ]
  },
  {
   "cell_type": "code",
   "execution_count": 24,
   "id": "54e219e3-6c81-41be-a019-951539aca3ac",
   "metadata": {},
   "outputs": [],
   "source": [
    "# Find the rows from data_rows3 by using find_right_text\n",
    "data_rows3 = [[find_right_text(i, td) for i, td in enumerate(tr.findAll('td'))] for tr in rows2]\n"
   ]
  },
  {
   "cell_type": "code",
   "execution_count": 25,
   "id": "b8ca9682-4005-45ef-a3f8-22c024ec41cb",
   "metadata": {},
   "outputs": [
    {
     "data": {
      "text/html": [
       "<div>\n",
       "<style scoped>\n",
       "    .dataframe tbody tr th:only-of-type {\n",
       "        vertical-align: middle;\n",
       "    }\n",
       "\n",
       "    .dataframe tbody tr th {\n",
       "        vertical-align: top;\n",
       "    }\n",
       "\n",
       "    .dataframe thead th {\n",
       "        text-align: right;\n",
       "    }\n",
       "</style>\n",
       "<table border=\"1\" class=\"dataframe\">\n",
       "  <thead>\n",
       "    <tr style=\"text-align: right;\">\n",
       "      <th></th>\n",
       "      <th>Rank</th>\n",
       "      <th>Country</th>\n",
       "      <th>GDP(US$MM)</th>\n",
       "    </tr>\n",
       "  </thead>\n",
       "  <tbody>\n",
       "    <tr>\n",
       "      <th>0</th>\n",
       "      <td></td>\n",
       "      <td>World</td>\n",
       "      <td>80,683,787</td>\n",
       "    </tr>\n",
       "    <tr>\n",
       "      <th>1</th>\n",
       "      <td>1</td>\n",
       "      <td>United States</td>\n",
       "      <td>19,390,604</td>\n",
       "    </tr>\n",
       "    <tr>\n",
       "      <th>2</th>\n",
       "      <td></td>\n",
       "      <td>European Union[23]</td>\n",
       "      <td>17,277,698</td>\n",
       "    </tr>\n",
       "    <tr>\n",
       "      <th>3</th>\n",
       "      <td>2</td>\n",
       "      <td>China[n 4]</td>\n",
       "      <td>12,237,700</td>\n",
       "    </tr>\n",
       "    <tr>\n",
       "      <th>4</th>\n",
       "      <td>3</td>\n",
       "      <td>Japan</td>\n",
       "      <td>4,872,137</td>\n",
       "    </tr>\n",
       "  </tbody>\n",
       "</table>\n",
       "</div>"
      ],
      "text/plain": [
       "  Rank             Country  GDP(US$MM)\n",
       "0                    World  80,683,787\n",
       "1    1       United States  19,390,604\n",
       "2       European Union[23]  17,277,698\n",
       "3    2          China[n 4]  12,237,700\n",
       "4    3               Japan   4,872,137"
      ]
     },
     "execution_count": 25,
     "metadata": {},
     "output_type": "execute_result"
    }
   ],
   "source": [
    "# Calculate the df3 DataFrame \n",
    "df3 = pd.DataFrame(data_rows3, columns=header3)\n",
    "df3.head()"
   ]
  },
  {
   "cell_type": "code",
   "execution_count": 26,
   "id": "b413fbe6-aa8e-42a1-9cc4-2823ce9bd913",
   "metadata": {},
   "outputs": [],
   "source": [
    "# The Data Wrangling Workshop: Activity 6.01, page 309\n",
    "# Handling outliers and missing data"
   ]
  },
  {
   "cell_type": "code",
   "execution_count": 27,
   "id": "bed439e9-d719-4d8c-a33b-5965fe7f3ebe",
   "metadata": {},
   "outputs": [],
   "source": [
    "# Load the data\n",
    "import pandas as pd\n",
    "import numpy as np\n",
    "import matplotlib.pyplot as plt\n",
    "%matplotlib inline"
   ]
  },
  {
   "cell_type": "code",
   "execution_count": 28,
   "id": "6d714781-00af-4fae-8455-12a519e2f4ce",
   "metadata": {},
   "outputs": [],
   "source": [
    "# Read the csv file\n",
    "df = pd.read_csv(\"datasets/visit_data.csv\")"
   ]
  },
  {
   "cell_type": "code",
   "execution_count": 29,
   "id": "0562379b-c991-4ab6-b1c9-0422daddbf3c",
   "metadata": {},
   "outputs": [
    {
     "data": {
      "text/html": [
       "<div>\n",
       "<style scoped>\n",
       "    .dataframe tbody tr th:only-of-type {\n",
       "        vertical-align: middle;\n",
       "    }\n",
       "\n",
       "    .dataframe tbody tr th {\n",
       "        vertical-align: top;\n",
       "    }\n",
       "\n",
       "    .dataframe thead th {\n",
       "        text-align: right;\n",
       "    }\n",
       "</style>\n",
       "<table border=\"1\" class=\"dataframe\">\n",
       "  <thead>\n",
       "    <tr style=\"text-align: right;\">\n",
       "      <th></th>\n",
       "      <th>id</th>\n",
       "      <th>first_name</th>\n",
       "      <th>last_name</th>\n",
       "      <th>email</th>\n",
       "      <th>gender</th>\n",
       "      <th>ip_address</th>\n",
       "      <th>visit</th>\n",
       "    </tr>\n",
       "  </thead>\n",
       "  <tbody>\n",
       "    <tr>\n",
       "      <th>0</th>\n",
       "      <td>1</td>\n",
       "      <td>Sonny</td>\n",
       "      <td>Dahl</td>\n",
       "      <td>sdahl0@mysql.com</td>\n",
       "      <td>Male</td>\n",
       "      <td>135.36.96.183</td>\n",
       "      <td>1225.0</td>\n",
       "    </tr>\n",
       "    <tr>\n",
       "      <th>1</th>\n",
       "      <td>2</td>\n",
       "      <td>NaN</td>\n",
       "      <td>NaN</td>\n",
       "      <td>dhoovart1@hud.gov</td>\n",
       "      <td>NaN</td>\n",
       "      <td>237.165.194.143</td>\n",
       "      <td>919.0</td>\n",
       "    </tr>\n",
       "    <tr>\n",
       "      <th>2</th>\n",
       "      <td>3</td>\n",
       "      <td>Gar</td>\n",
       "      <td>Armal</td>\n",
       "      <td>garmal2@technorati.com</td>\n",
       "      <td>NaN</td>\n",
       "      <td>166.43.137.224</td>\n",
       "      <td>271.0</td>\n",
       "    </tr>\n",
       "    <tr>\n",
       "      <th>3</th>\n",
       "      <td>4</td>\n",
       "      <td>Chiarra</td>\n",
       "      <td>Nulty</td>\n",
       "      <td>cnulty3@newyorker.com</td>\n",
       "      <td>NaN</td>\n",
       "      <td>139.98.137.108</td>\n",
       "      <td>1002.0</td>\n",
       "    </tr>\n",
       "    <tr>\n",
       "      <th>4</th>\n",
       "      <td>5</td>\n",
       "      <td>NaN</td>\n",
       "      <td>NaN</td>\n",
       "      <td>sleaver4@elegantthemes.com</td>\n",
       "      <td>NaN</td>\n",
       "      <td>46.117.117.27</td>\n",
       "      <td>2434.0</td>\n",
       "    </tr>\n",
       "  </tbody>\n",
       "</table>\n",
       "</div>"
      ],
      "text/plain": [
       "   id first_name last_name                       email gender  \\\n",
       "0   1      Sonny      Dahl            sdahl0@mysql.com   Male   \n",
       "1   2        NaN       NaN           dhoovart1@hud.gov    NaN   \n",
       "2   3        Gar     Armal      garmal2@technorati.com    NaN   \n",
       "3   4    Chiarra     Nulty       cnulty3@newyorker.com    NaN   \n",
       "4   5        NaN       NaN  sleaver4@elegantthemes.com    NaN   \n",
       "\n",
       "        ip_address   visit  \n",
       "0    135.36.96.183  1225.0  \n",
       "1  237.165.194.143   919.0  \n",
       "2   166.43.137.224   271.0  \n",
       "3   139.98.137.108  1002.0  \n",
       "4    46.117.117.27  2434.0  "
      ]
     },
     "execution_count": 29,
     "metadata": {},
     "output_type": "execute_result"
    }
   ],
   "source": [
    "# Print the data from the dataframe\n",
    "df.head()"
   ]
  },
  {
   "cell_type": "code",
   "execution_count": 30,
   "id": "466ef3d0-9c47-41ea-a7f8-a91181a3c5e3",
   "metadata": {},
   "outputs": [
    {
     "name": "stdout",
     "output_type": "stream",
     "text": [
      "First name is duplicated - True\n",
      "Last name is duplicated - True\n",
      "Email is duplicated - False\n"
     ]
    }
   ],
   "source": [
    "# Check for duplicates\n",
    "print(\"First name is duplicated - {}\".format(any(df.first_name.duplicated())))\n",
    "print(\"Last name is duplicated - {}\".format(any(df.last_name.duplicated())))\n",
    "print(\"Email is duplicated - {}\".format(any(df.email.duplicated())))"
   ]
  },
  {
   "cell_type": "code",
   "execution_count": 31,
   "id": "97e35f68-617b-44ba-a63c-d7cb372ab4f6",
   "metadata": {},
   "outputs": [
    {
     "name": "stdout",
     "output_type": "stream",
     "text": [
      "The column Email contains NaN - False \n",
      "The column IP Address contains NaN - False \n",
      "The column Visit contains NaN - True \n"
     ]
    }
   ],
   "source": [
    "# Notice that we have different ways to format boolean values for the % op-erator\n",
    "# Check if there are any NaN values\n",
    "print(\"The column Email contains NaN - %r \" % df.email.isnull().values.any())\n",
    "print(\"The column IP Address contains NaN - %s \" % df.ip_address.isnull().values.any())\n",
    "print(\"The column Visit contains NaN - %s \" % df.visit.isnull().values.any())"
   ]
  },
  {
   "cell_type": "code",
   "execution_count": 32,
   "id": "d4e4e7fc-574f-4c02-a2e6-2cf8f65f24aa",
   "metadata": {},
   "outputs": [],
   "source": [
    "# There are various ways to do this. This is just one way. We encourage you to explore other ways.\n",
    "# But before that we need to store the previous size of the data set and we will compare it with the new size\n",
    "size_prev = df.shape\n",
    "df = df[np.isfinite(df['visit'])] #This is an inplace operation. After this operation the original DataFrame is lost.\n",
    "size_after = df.shape"
   ]
  },
  {
   "cell_type": "code",
   "execution_count": 33,
   "id": "2cbd8c8e-6dc7-4d9f-8062-ee115840c44a",
   "metadata": {},
   "outputs": [
    {
     "name": "stdout",
     "output_type": "stream",
     "text": [
      "The size of previous data was - 1000 rows and the size of the new one is - 974 rows\n"
     ]
    }
   ],
   "source": [
    "# Notice how parameterized format is used and then the indexing is working inside the quote marks\n",
    "# Report the size difference\n",
    "print(\"The size of previous data was - {prev[0]} rows and the size of the new one is - {after[0]} rows\".\n",
    "format(prev=size_prev, after=size_after))"
   ]
  },
  {
   "cell_type": "code",
   "execution_count": 34,
   "id": "0e93624e-0240-4d23-a01e-36d3c4eb92b7",
   "metadata": {},
   "outputs": [
    {
     "data": {
      "text/plain": [
       "{'whiskers': [<matplotlib.lines.Line2D at 0x1e0bb03d1c0>,\n",
       "  <matplotlib.lines.Line2D at 0x1e0bb03d4f0>],\n",
       " 'caps': [<matplotlib.lines.Line2D at 0x1e0bb03d790>,\n",
       "  <matplotlib.lines.Line2D at 0x1e0bb03da90>],\n",
       " 'boxes': [<matplotlib.lines.Line2D at 0x1e0bb03c7d0>],\n",
       " 'medians': [<matplotlib.lines.Line2D at 0x1e0bb03ddc0>],\n",
       " 'fliers': [<matplotlib.lines.Line2D at 0x1e0bb03e090>],\n",
       " 'means': []}"
      ]
     },
     "execution_count": 34,
     "metadata": {},
     "output_type": "execute_result"
    },
    {
     "data": {
      "image/png": "[encoded data removed]",
      "text/plain": [
       "<Figure size 640x480 with 1 Axes>"
      ]
     },
     "metadata": {},
     "output_type": "display_data"
    }
   ],
   "source": [
    "# Plot a box to find whether the data has outliers\n",
    "plt.boxplot(df.visit, notch=True)"
   ]
  },
  {
   "cell_type": "code",
   "execution_count": 35,
   "id": "1e89d528-ee7c-4181-adb6-bae6c46c9331",
   "metadata": {},
   "outputs": [
    {
     "name": "stdout",
     "output_type": "stream",
     "text": [
      "After getting rid of outliers the new size of the data is - 923\n"
     ]
    }
   ],
   "source": [
    "# Get rid of values beyond 2900 and below 100 - these are outliers for us. We need to get rid of them\n",
    "df1 = df[(df['visit'] <= 2900) & (df['visit'] >= 100)]  # Notice the power-ful & operator\n",
    "# Here we abuse the fact the number of variable can be greater than the num-ber of replacement targets\n",
    "print(\"After getting rid of outliers the new size of the data is - {}\".format(*df1.shape))"
   ]
  },
  {
   "cell_type": "code",
   "execution_count": 36,
   "id": "3c4fbade-a47f-4f69-bf64-2310146cffe9",
   "metadata": {},
   "outputs": [],
   "source": [
    "#3. Insert data into a SQL Lite database – create a table with the following data below that you will create yourself\n",
    "# (Hint on how to create the SQL: Python for Data Analysis 2nd edition page 191, Python for Data Analysis 3rd Edition: Page 199):\n",
    "#a. Name, Address, City, State, Zip, Phone Number\n",
    "#b. Add at least 10 rows of data and submit your code with a query generating your results."
   ]
  },
  {
   "cell_type": "code",
   "execution_count": 37,
   "id": "e64f5049-a023-4c50-acb7-b7e0c26c0ff1",
   "metadata": {},
   "outputs": [],
   "source": [
    "import sqlite3"
   ]
  },
  {
   "cell_type": "code",
   "execution_count": 38,
   "id": "8bb2795c-d2e0-41dc-abb7-2aa246cb3635",
   "metadata": {},
   "outputs": [],
   "source": [
    "# Create a table user_info, if already present then drop and create\n",
    "query = \"DROP table user_info\"\n",
    "# Create a connection object to sqllite\n",
    "con = sqlite3.connect(\"mydata.sqlite\")\n",
    "con.execute(query)\n",
    "con.commit()\n",
    "# Prepare a query\n",
    "query = \"\"\"CREATE TABLE user_info(Name VARCHAR(50), Address VARCHAR(100), City VARCHAR(30), State VARCHAR(30), Zip INTEGER, Phone INTEGER);\"\"\""
   ]
  },
  {
   "cell_type": "code",
   "execution_count": 39,
   "id": "7a29644e-04d0-4a71-9b35-2618111cf040",
   "metadata": {},
   "outputs": [],
   "source": [
    "# Create a connection object to sqllite\n",
    "con = sqlite3.connect(\"mydata.sqlite\")"
   ]
  },
  {
   "cell_type": "code",
   "execution_count": 40,
   "id": "72a637d5-6c49-437b-89af-ee6e6001abf5",
   "metadata": {},
   "outputs": [
    {
     "data": {
      "text/plain": [
       "<sqlite3.Cursor at 0x1e0bb019140>"
      ]
     },
     "execution_count": 40,
     "metadata": {},
     "output_type": "execute_result"
    }
   ],
   "source": [
    "con.execute(query)"
   ]
  },
  {
   "cell_type": "code",
   "execution_count": 41,
   "id": "d707f8ed-11bd-41bd-9aed-1ef0508a5fe7",
   "metadata": {},
   "outputs": [],
   "source": [
    "# Prepare data"
   ]
  },
  {
   "cell_type": "code",
   "execution_count": 42,
   "id": "6139eda0-25b0-40f4-843b-d435ecd029f1",
   "metadata": {},
   "outputs": [],
   "source": [
    "data = [(\"John\", \"Test address1\", \"Atlanta\", \"Georgia\", 23560, 111222333),\n",
    "        (\"Adam\", \"Test address2\", \"Dallas\", \"Texas\", 75020, 111222300),\n",
    "        (\"Daniel\", \"Test address3\", \"Austin\", \"Texas\", 65790, 111222500),\n",
    "        (\"Woody\", \"Test address4\", \"Houston\" ,\"Texas\", 55600, 111222400),\n",
    "        (\"Armando\", \"Test address5\", \"Plano\", \"Texas\", 75034, 111222320),\n",
    "        (\"Ashish\", \"Test address6\", \"McKinney\", \"Texas\", 75070, 111222600),\n",
    "        (\"Dave\", \"Test address7\", \"Waco\", \"Texas\", 75032, 111222700),\n",
    "        (\"Santiago\", \"Test address8\", \"Arlington\", \"Texas\", 75037, 111222800),\n",
    "        (\"Ram\", \"Test address9\", \"Louisville\", \"Texas\", 75010, 111222900),\n",
    "        (\"Joe\", \"Test address10\", \"Prosper\", \"Texas\", 75023, 111222100)\n",
    "       ]"
   ]
  },
  {
   "cell_type": "code",
   "execution_count": 43,
   "id": "6116b572-1f95-4908-bb19-b7c1ee4b9a4b",
   "metadata": {},
   "outputs": [],
   "source": [
    "# Insert data into table\n",
    "stmt = \"INSERT INTO user_info VALUES(?,?,?,?,?,?)\""
   ]
  },
  {
   "cell_type": "code",
   "execution_count": 44,
   "id": "999f4a2d-78cb-4f9a-b38d-2fc1c3abdd97",
   "metadata": {},
   "outputs": [
    {
     "data": {
      "text/plain": [
       "<sqlite3.Cursor at 0x1e0bb019dc0>"
      ]
     },
     "execution_count": 44,
     "metadata": {},
     "output_type": "execute_result"
    }
   ],
   "source": [
    "con.executemany(stmt, data)"
   ]
  },
  {
   "cell_type": "code",
   "execution_count": 45,
   "id": "510ddfb2-a5d4-4037-8a39-52e791c25c67",
   "metadata": {},
   "outputs": [],
   "source": [
    "# Commit data\n",
    "con.commit()"
   ]
  },
  {
   "cell_type": "code",
   "execution_count": 46,
   "id": "4b7adcf1-51d4-4b85-a1ae-1e2625f536a2",
   "metadata": {},
   "outputs": [],
   "source": [
    "# select * from the table user_info\n",
    "cursor = con.execute(\"SELECT * FROM user_info\")"
   ]
  },
  {
   "cell_type": "code",
   "execution_count": 47,
   "id": "0e44f50e-2463-42aa-ac84-4e77421188c2",
   "metadata": {},
   "outputs": [],
   "source": [
    "# collect all the data\n",
    "rows = cursor.fetchall()"
   ]
  },
  {
   "cell_type": "code",
   "execution_count": 48,
   "id": "6e4fd7ba-f51d-43d2-bfed-68b2f4ce3d38",
   "metadata": {},
   "outputs": [
    {
     "data": {
      "text/plain": [
       "[('John', 'Test address1', 'Atlanta', 'Georgia', 23560, 111222333),\n",
       " ('Adam', 'Test address2', 'Dallas', 'Texas', 75020, 111222300),\n",
       " ('Daniel', 'Test address3', 'Austin', 'Texas', 65790, 111222500),\n",
       " ('Woody', 'Test address4', 'Houston', 'Texas', 55600, 111222400),\n",
       " ('Armando', 'Test address5', 'Plano', 'Texas', 75034, 111222320),\n",
       " ('Ashish', 'Test address6', 'McKinney', 'Texas', 75070, 111222600),\n",
       " ('Dave', 'Test address7', 'Waco', 'Texas', 75032, 111222700),\n",
       " ('Santiago', 'Test address8', 'Arlington', 'Texas', 75037, 111222800),\n",
       " ('Ram', 'Test address9', 'Louisville', 'Texas', 75010, 111222900),\n",
       " ('Joe', 'Test address10', 'Prosper', 'Texas', 75023, 111222100)]"
      ]
     },
     "execution_count": 48,
     "metadata": {},
     "output_type": "execute_result"
    }
   ],
   "source": [
    "# print rows\n",
    "rows"
   ]
  }
 ],
 "metadata": {
  "kernelspec": {
   "display_name": "Python 3 (ipykernel)",
   "language": "python",
   "name": "python3"
  },
  "language_info": {
   "codemirror_mode": {
    "name": "ipython",
    "version": 3
   },
   "file_extension": ".py",
   "mimetype": "text/x-python",
   "name": "python",
   "nbconvert_exporter": "python",
   "pygments_lexer": "ipython3",
   "version": "3.12.8"
  }
 },
 "nbformat": 4,
 "nbformat_minor": 5
}
